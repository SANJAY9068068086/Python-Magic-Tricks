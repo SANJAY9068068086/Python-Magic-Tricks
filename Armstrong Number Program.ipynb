{
 "cells": [
  {
   "cell_type": "markdown",
   "metadata": {},
   "source": [
    "# Armstrong Number Programm\n",
    "\n",
    "\n",
    "A number is an Armstrong Number or narcissistic number, if it is equal to the sum of its own digits raised to, the power of the number of digits.\n",
    "\n",
    "An example: 371 = 3^3 + 7^3 + 1^3 = 27 + 343 + 1.\n",
    "\n",
    "Another: 1634 = 1^4 + 6^4 + 3^4 + 4^4 = 1 + 1296 + 81 + 256."
   ]
  },
  {
   "cell_type": "markdown",
   "metadata": {},
   "source": [
    "#### Solution : 1"
   ]
  },
  {
   "cell_type": "code",
   "execution_count": 1,
   "metadata": {},
   "outputs": [
    {
     "name": "stdout",
     "output_type": "stream",
     "text": [
      "Enter any number : 371\n",
      "Sum is : 371\n",
      "\n",
      "It is an Armstrong Number\n"
     ]
    }
   ],
   "source": [
    "num = input(\"Enter any number : \")\n",
    "sum = 0\n",
    "for i in num:\n",
    "    i = int(i)\n",
    "    sum = sum+i*i*i\n",
    "print(\"Sum is :\",sum)\n",
    "if num == str(sum):\n",
    "    print(\"\\nIt is an Armstrong Number\")\n",
    "else:\n",
    "    print(\"\\nIt is not an Armstrong Number\")"
   ]
  },
  {
   "cell_type": "markdown",
   "metadata": {},
   "source": [
    "#### Solution : 2"
   ]
  },
  {
   "cell_type": "code",
   "execution_count": 2,
   "metadata": {},
   "outputs": [
    {
     "name": "stdout",
     "output_type": "stream",
     "text": [
      "Enter any number : 471\n",
      "Sum is :  408\n",
      "\n",
      "It is not an Armstrong Number\n"
     ]
    }
   ],
   "source": [
    "num = int(input(\"Enter any number : \"))\n",
    "order = len(str(num))\n",
    "sum = 0\n",
    "temp = num\n",
    "while temp>0:\n",
    "    digit = temp%10\n",
    "    sum = sum+digit**order\n",
    "    temp = temp//10\n",
    "print(\"Sum is : \",sum)\n",
    "if sum == num:\n",
    "    print(\"\\nIt is an Armstrong Number\")\n",
    "else:\n",
    "    print(\"\\nIt is not an Armstrong Number\")"
   ]
  },
  {
   "cell_type": "code",
   "execution_count": null,
   "metadata": {},
   "outputs": [],
   "source": []
  }
 ],
 "metadata": {
  "kernelspec": {
   "display_name": "Python 3",
   "language": "python",
   "name": "python3"
  },
  "language_info": {
   "codemirror_mode": {
    "name": "ipython",
    "version": 3
   },
   "file_extension": ".py",
   "mimetype": "text/x-python",
   "name": "python",
   "nbconvert_exporter": "python",
   "pygments_lexer": "ipython3",
   "version": "3.8.5"
  }
 },
 "nbformat": 4,
 "nbformat_minor": 4
}
