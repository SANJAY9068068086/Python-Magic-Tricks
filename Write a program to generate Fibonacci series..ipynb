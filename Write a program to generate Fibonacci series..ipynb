{
 "cells": [
  {
   "cell_type": "markdown",
   "metadata": {},
   "source": [
    "### Write a program to generate Fibonacci series,\n",
    "\n",
    "for the first n numbers.\n",
    "\n",
    "It is a series of numbers in which each number ( Fibonacci number ) is\n",
    "the sum of the two preceding numbers.\n",
    "\n",
    "The simplest is the series 0, 1, 1, 2, 3, 5, 8, etc."
   ]
  },
  {
   "cell_type": "code",
   "execution_count": 4,
   "metadata": {},
   "outputs": [
    {
     "name": "stdout",
     "output_type": "stream",
     "text": [
      "[0, 1, 2, 4, 8, 16, 32, 64, 128, 256]\n"
     ]
    }
   ],
   "source": [
    "# In this you will find the sum of all previous indexes\n",
    "\n",
    "def fab(n):\n",
    "    f=[0,1]\n",
    "    for i in range(2,n+1):\n",
    "        f.append(f[i-1] + f[1-2])\n",
    "    print(f)\n",
    "        \n",
    "fab(9)"
   ]
  },
  {
   "cell_type": "code",
   "execution_count": 2,
   "metadata": {},
   "outputs": [
    {
     "name": "stdout",
     "output_type": "stream",
     "text": [
      "[0, 1, 1, 2, 3, 5, 8, 13, 21, 34]\n"
     ]
    }
   ],
   "source": [
    "# In this will find the sum of last 2 index\n",
    "\n",
    "def fab(n):\n",
    "    f=[0,1]\n",
    "    for i in range(2,n+1):\n",
    "        f.append(f[i-1] + f[i-2])\n",
    "    print(f)\n",
    "        \n",
    "fab(9)                                "
   ]
  },
  {
   "cell_type": "code",
   "execution_count": 30,
   "metadata": {},
   "outputs": [
    {
     "name": "stdout",
     "output_type": "stream",
     "text": [
      "[1, 1, 2, 2, 4, 4, 8, 8, 16, 16, 32, 32, 64, 64, 128, 128, 256, 256, 512, 512, 1024]\n"
     ]
    }
   ],
   "source": [
    "# In this you fill the last index multiple by 2 its previuos index twice\n",
    "\n",
    "def fab(n):\n",
    "    f=[1,1]\n",
    "    for i in range(2,n+1):\n",
    "        f.append(f[i-2] + f[1-3])\n",
    "    print(f)\n",
    "        \n",
    "fab(20)"
   ]
  },
  {
   "cell_type": "code",
   "execution_count": 31,
   "metadata": {},
   "outputs": [
    {
     "name": "stdout",
     "output_type": "stream",
     "text": [
      "[1, 3, 2, 6, 4, 12, 8, 24, 16, 48, 32, 96, 64, 192, 128, 384, 256, 768, 512, 1536, 1024]\n"
     ]
    }
   ],
   "source": [
    "\n",
    "\n",
    "def fab(n):\n",
    "    f=[1,3]\n",
    "    for i in range(2,n+1):\n",
    "        f.append(f[i-2] + f[1-3])\n",
    "    print(f)\n",
    "        \n",
    "fab(20)"
   ]
  },
  {
   "cell_type": "code",
   "execution_count": null,
   "metadata": {},
   "outputs": [],
   "source": []
  }
 ],
 "metadata": {
  "kernelspec": {
   "display_name": "Python 3",
   "language": "python",
   "name": "python3"
  },
  "language_info": {
   "codemirror_mode": {
    "name": "ipython",
    "version": 3
   },
   "file_extension": ".py",
   "mimetype": "text/x-python",
   "name": "python",
   "nbconvert_exporter": "python",
   "pygments_lexer": "ipython3",
   "version": "3.8.5"
  }
 },
 "nbformat": 4,
 "nbformat_minor": 4
}
