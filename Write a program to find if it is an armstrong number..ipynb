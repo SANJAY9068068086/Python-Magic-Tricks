{
 "cells": [
  {
   "cell_type": "markdown",
   "metadata": {},
   "source": [
    "### Write a program to find if it is an armstrong number.\n",
    "\n",
    "##### How is Armstrong number calculated?\n",
    "\n",
    "A number is an Armstrong Number or narcissistic number,\n",
    "if it is equal to the sum of its own digits raised to,\n",
    "the power of the number of digits.\n",
    "\n",
    "An example: 371 = 3^3 + 7^3 + 1^3 = 27 + 343 + 1.\n",
    "\n",
    "Another: 1634 = 1^4 + 6^4 + 3^4 + 4^4 = 1 + 1296 + 81 + 256."
   ]
  },
  {
   "cell_type": "code",
   "execution_count": 45,
   "metadata": {},
   "outputs": [
    {
     "name": "stdout",
     "output_type": "stream",
     "text": [
      "Enter any Number\n",
      "407\n",
      "407 is an armstrong number\n",
      "4\n"
     ]
    }
   ],
   "source": [
    "n = int(input(\"Enter any Number\\n\"))\n",
    "order = len(str(n))\n",
    "sum = 0\n",
    "temp = n\n",
    "while temp >0:\n",
    "    digit = temp %10\n",
    "    sum+=digit**order\n",
    "    temp //=10\n",
    "\n",
    "if n == sum:\n",
    "    print(n, \"is an armstrong number\")\n",
    "else:\n",
    "    print(n,\" is not an armstrong number\")"
   ]
  },
  {
   "cell_type": "code",
   "execution_count": 43,
   "metadata": {},
   "outputs": [
    {
     "data": {
      "text/plain": [
       "65"
      ]
     },
     "execution_count": 43,
     "metadata": {},
     "output_type": "execute_result"
    }
   ],
   "source": [
    "651//10"
   ]
  },
  {
   "cell_type": "code",
   "execution_count": null,
   "metadata": {},
   "outputs": [],
   "source": []
  }
 ],
 "metadata": {
  "kernelspec": {
   "display_name": "Python 3",
   "language": "python",
   "name": "python3"
  },
  "language_info": {
   "codemirror_mode": {
    "name": "ipython",
    "version": 3
   },
   "file_extension": ".py",
   "mimetype": "text/x-python",
   "name": "python",
   "nbconvert_exporter": "python",
   "pygments_lexer": "ipython3",
   "version": "3.8.5"
  }
 },
 "nbformat": 4,
 "nbformat_minor": 4
}
